{
 "cells": [
  {
   "cell_type": "markdown",
   "metadata": {},
   "source": [
    "# Traveling salesperson problem\n",
    "\n",
    "Lets try to now select the best route touching all the nodes in following graph:\n",
    "\n",
    "![problem](../assets/tsp.png)"
   ]
  },
  {
   "cell_type": "markdown",
   "metadata": {},
   "source": [
    "We will need to encode the problem using a QUBO formulation."
   ]
  },
  {
   "cell_type": "code",
   "execution_count": 1,
   "metadata": {},
   "outputs": [],
   "source": [
    "edges = [(1,2),(1,3),(2,3),(2,4),(3,4)]\n",
    "edge_w = [5, 8, 2, 7, 4]"
   ]
  },
  {
   "cell_type": "code",
   "execution_count": 62,
   "metadata": {},
   "outputs": [],
   "source": [
    "from pyqubo import Array, Constraint, Placeholder\n",
    "\n",
    "num_assets = len(edges)\n",
    "x = Array.create('x', shape=num_assets, vartype='BINARY')\n",
    "\n",
    "# Weight added by selecting each edge\n",
    "H_cost= 0.0\n",
    "for i in range(num_assets):\n",
    "    H_cost += Constraint(\n",
    "        -edge_w[i] * x[i], label='edge({}{})'.format(edges[i][0],edges[i][1])\n",
    "    )\n",
    "\n",
    "# Constraints\n",
    "# - Either 1,2 or 1,3\n",
    "theta = Placeholder('theta')\n",
    "H_cost += theta*Constraint((x[0] + x[1] - 1)**2, label='edges with 1')\n",
    "H_cost += theta*Constraint((x[0] - x[2] - x[3])**2, label='edges with 2')\n",
    "H_cost += theta*Constraint((x[0] + x[1] - 1)**2, label='edges with 1')\n",
    "\n",
    "# - There should be at least nodes - 1 edges selected\n",
    "H_cost += theta*Constraint((x[0] + x[1] + x[2] + x[3] + x[4] - 3)**2, label='edges with 1')\n",
    "\n",
    "# Build model\n",
    "model = H_cost.compile()"
   ]
  },
  {
   "cell_type": "code",
   "execution_count": 68,
   "metadata": {},
   "outputs": [
    {
     "data": {
      "text/plain": [
       "{('x[2]', 'x[2]'): -22.0,\n",
       " ('x[1]', 'x[1]'): -43.0,\n",
       " ('x[4]', 'x[4]'): -29.0,\n",
       " ('x[3]', 'x[3]'): -27.0,\n",
       " ('x[3]', 'x[4]'): 10.0,\n",
       " ('x[0]', 'x[0]'): -35.0,\n",
       " ('x[2]', 'x[3]'): 20.0,\n",
       " ('x[1]', 'x[3]'): 10.0,\n",
       " ('x[2]', 'x[4]'): 10.0,\n",
       " ('x[1]', 'x[2]'): 10.0,\n",
       " ('x[1]', 'x[4]'): 10.0,\n",
       " ('x[0]', 'x[4]'): 10.0,\n",
       " ('x[0]', 'x[1]'): 30.0}"
      ]
     },
     "execution_count": 68,
     "metadata": {},
     "output_type": "execute_result"
    }
   ],
   "source": [
    "# Set the Lagrange multipliers\n",
    "theta=5\n",
    "feed_dict = {'theta': theta}\n",
    "\n",
    "# Transform to QUBO.\n",
    "qubo, offset = model.to_qubo(feed_dict=feed_dict)\n",
    "qubo"
   ]
  },
  {
   "cell_type": "code",
   "execution_count": 69,
   "metadata": {},
   "outputs": [
    {
     "data": {
      "text/plain": [
       "55.0"
      ]
     },
     "execution_count": 69,
     "metadata": {},
     "output_type": "execute_result"
    }
   ],
   "source": [
    "offset"
   ]
  },
  {
   "cell_type": "markdown",
   "metadata": {},
   "source": [
    "First we will try to solve it using D-Wave's quantum annealer."
   ]
  },
  {
   "cell_type": "code",
   "execution_count": 70,
   "metadata": {},
   "outputs": [],
   "source": [
    "from dwave.system.samplers import DWaveSampler\n",
    "from dwave.system.composites import FixedEmbeddingComposite\n",
    "import minorminer\n",
    "import dimod\n",
    "\n",
    "# Instanciate Sampler\n",
    "dwave_sampler = DWaveSampler()\n",
    "\n",
    "# DWave sampler parameters\n",
    "amode = 'histogram'\n",
    "allowed_ta = dwave_sampler.properties['annealing_time_range'] #microsecond\n",
    "num_reads=100\n",
    "\n",
    "# Construct a problem\n",
    "bqm = dimod.BinaryQuadraticModel(qubo, dimod.BINARY)\n",
    "\n",
    "# Get the edge list\n",
    "target_edgelist = dwave_sampler.edgelist\n",
    "\n",
    "# And source edge list on the BQM quadratic model\n",
    "source_edgelist = list(bqm.quadratic)\n",
    "\n",
    "# Find the embeding\n",
    "embedding = minorminer.find_embedding(source_edgelist, target_edgelist)\n",
    "sampler = FixedEmbeddingComposite(dwave_sampler, embedding)"
   ]
  },
  {
   "cell_type": "code",
   "execution_count": 71,
   "metadata": {},
   "outputs": [],
   "source": [
    "ta = 10 # microseconds\n",
    "response = sampler.sample_qubo(qubo, num_reads=num_reads, annealing_time=ta, answer_mode=amode)\n",
    "    \n",
    "data = response.to_pandas_dataframe()\n",
    "data[\"probability\"] = data[\"num_occurrences\"]/num_reads\n",
    "cols = []\n",
    "for i in range(num_assets):\n",
    "    cols += [f'x[{i}]']\n",
    "data['solution'] = data[cols].astype('str').agg(''.join, axis=1)"
   ]
  },
  {
   "cell_type": "code",
   "execution_count": 72,
   "metadata": {},
   "outputs": [
    {
     "data": {
      "text/html": [
       "<div>\n",
       "<style scoped>\n",
       "    .dataframe tbody tr th:only-of-type {\n",
       "        vertical-align: middle;\n",
       "    }\n",
       "\n",
       "    .dataframe tbody tr th {\n",
       "        vertical-align: top;\n",
       "    }\n",
       "\n",
       "    .dataframe thead th {\n",
       "        text-align: right;\n",
       "    }\n",
       "</style>\n",
       "<table border=\"1\" class=\"dataframe\">\n",
       "  <thead>\n",
       "    <tr style=\"text-align: right;\">\n",
       "      <th></th>\n",
       "      <th>x[0]</th>\n",
       "      <th>x[1]</th>\n",
       "      <th>x[2]</th>\n",
       "      <th>x[3]</th>\n",
       "      <th>x[4]</th>\n",
       "      <th>chain_break_fraction</th>\n",
       "      <th>energy</th>\n",
       "      <th>num_occurrences</th>\n",
       "      <th>probability</th>\n",
       "      <th>solution</th>\n",
       "    </tr>\n",
       "  </thead>\n",
       "  <tbody>\n",
       "    <tr>\n",
       "      <th>0</th>\n",
       "      <td>1</td>\n",
       "      <td>0</td>\n",
       "      <td>0</td>\n",
       "      <td>1</td>\n",
       "      <td>1</td>\n",
       "      <td>0.0</td>\n",
       "      <td>-71.0</td>\n",
       "      <td>60</td>\n",
       "      <td>0.60</td>\n",
       "      <td>10011</td>\n",
       "    </tr>\n",
       "    <tr>\n",
       "      <th>1</th>\n",
       "      <td>0</td>\n",
       "      <td>1</td>\n",
       "      <td>0</td>\n",
       "      <td>1</td>\n",
       "      <td>1</td>\n",
       "      <td>0.0</td>\n",
       "      <td>-69.0</td>\n",
       "      <td>22</td>\n",
       "      <td>0.22</td>\n",
       "      <td>01011</td>\n",
       "    </tr>\n",
       "    <tr>\n",
       "      <th>2</th>\n",
       "      <td>1</td>\n",
       "      <td>0</td>\n",
       "      <td>1</td>\n",
       "      <td>0</td>\n",
       "      <td>1</td>\n",
       "      <td>0.0</td>\n",
       "      <td>-66.0</td>\n",
       "      <td>8</td>\n",
       "      <td>0.08</td>\n",
       "      <td>10101</td>\n",
       "    </tr>\n",
       "    <tr>\n",
       "      <th>3</th>\n",
       "      <td>1</td>\n",
       "      <td>1</td>\n",
       "      <td>0</td>\n",
       "      <td>1</td>\n",
       "      <td>0</td>\n",
       "      <td>0.0</td>\n",
       "      <td>-65.0</td>\n",
       "      <td>1</td>\n",
       "      <td>0.01</td>\n",
       "      <td>11010</td>\n",
       "    </tr>\n",
       "    <tr>\n",
       "      <th>4</th>\n",
       "      <td>1</td>\n",
       "      <td>0</td>\n",
       "      <td>1</td>\n",
       "      <td>1</td>\n",
       "      <td>0</td>\n",
       "      <td>0.0</td>\n",
       "      <td>-64.0</td>\n",
       "      <td>4</td>\n",
       "      <td>0.04</td>\n",
       "      <td>10110</td>\n",
       "    </tr>\n",
       "    <tr>\n",
       "      <th>5</th>\n",
       "      <td>0</td>\n",
       "      <td>1</td>\n",
       "      <td>1</td>\n",
       "      <td>0</td>\n",
       "      <td>1</td>\n",
       "      <td>0.0</td>\n",
       "      <td>-64.0</td>\n",
       "      <td>1</td>\n",
       "      <td>0.01</td>\n",
       "      <td>01101</td>\n",
       "    </tr>\n",
       "    <tr>\n",
       "      <th>6</th>\n",
       "      <td>1</td>\n",
       "      <td>0</td>\n",
       "      <td>1</td>\n",
       "      <td>1</td>\n",
       "      <td>1</td>\n",
       "      <td>0.0</td>\n",
       "      <td>-63.0</td>\n",
       "      <td>3</td>\n",
       "      <td>0.03</td>\n",
       "      <td>10111</td>\n",
       "    </tr>\n",
       "    <tr>\n",
       "      <th>7</th>\n",
       "      <td>0</td>\n",
       "      <td>1</td>\n",
       "      <td>0</td>\n",
       "      <td>0</td>\n",
       "      <td>1</td>\n",
       "      <td>0.0</td>\n",
       "      <td>-62.0</td>\n",
       "      <td>1</td>\n",
       "      <td>0.01</td>\n",
       "      <td>01001</td>\n",
       "    </tr>\n",
       "  </tbody>\n",
       "</table>\n",
       "</div>"
      ],
      "text/plain": [
       "   x[0]  x[1]  x[2]  x[3]  x[4]  chain_break_fraction  energy  \\\n",
       "0     1     0     0     1     1                   0.0   -71.0   \n",
       "1     0     1     0     1     1                   0.0   -69.0   \n",
       "2     1     0     1     0     1                   0.0   -66.0   \n",
       "3     1     1     0     1     0                   0.0   -65.0   \n",
       "4     1     0     1     1     0                   0.0   -64.0   \n",
       "5     0     1     1     0     1                   0.0   -64.0   \n",
       "6     1     0     1     1     1                   0.0   -63.0   \n",
       "7     0     1     0     0     1                   0.0   -62.0   \n",
       "\n",
       "   num_occurrences  probability solution  \n",
       "0               60         0.60    10011  \n",
       "1               22         0.22    01011  \n",
       "2                8         0.08    10101  \n",
       "3                1         0.01    11010  \n",
       "4                4         0.04    10110  \n",
       "5                1         0.01    01101  \n",
       "6                3         0.03    10111  \n",
       "7                1         0.01    01001  "
      ]
     },
     "execution_count": 72,
     "metadata": {},
     "output_type": "execute_result"
    }
   ],
   "source": [
    "data"
   ]
  },
  {
   "cell_type": "markdown",
   "metadata": {},
   "source": [
    "Lets take it to our QAOA setting."
   ]
  },
  {
   "cell_type": "code",
   "execution_count": 73,
   "metadata": {},
   "outputs": [
    {
     "name": "stdout",
     "output_type": "stream",
     "text": [
      "Ising model linear coefficients: [-7.5, -6.5, -1.0, -3.5, -4.5]\n",
      "Ising model quadratic coefficients: {(0, 1): 7.5, (0, 4): 2.5, (1, 2): 2.5, (1, 3): 2.5, (1, 4): 2.5, (2, 3): 5.0, (2, 4): 2.5, (3, 4): 2.5}\n"
     ]
    }
   ],
   "source": [
    "#from QUBO to Ising Dict\n",
    "ising_coeffs=dimod.qubo_to_ising(qubo, offset=offset)\n",
    "\n",
    "# Order coefficients by the position they code 'x[0]' -> 0\n",
    "h = []\n",
    "jp = {}\n",
    "linear = ising_coeffs[0]\n",
    "quadratic = ising_coeffs[1]\n",
    "for i in range(len(linear)):\n",
    "    h += [linear[f'x[{i}]']]\n",
    "    for j in range(len(linear)):\n",
    "        if (f'x[{i}]',f'x[{j}]') in quadratic:\n",
    "            jp[(i,j)] = quadratic[(f'x[{i}]',f'x[{j}]')]\n",
    "\n",
    "print(f'Ising model linear coefficients: {h}')\n",
    "print(f'Ising model quadratic coefficients: {jp}')"
   ]
  },
  {
   "cell_type": "code",
   "execution_count": 74,
   "metadata": {},
   "outputs": [],
   "source": [
    "from cmath import pi\n",
    "from qiskit import QuantumCircuit\n",
    "\n",
    "# Mixer\n",
    "def U_B(circ: QuantumCircuit, param): \n",
    "    for qubit in range(circ.num_qubits):\n",
    "        circ.rx(param, qubit)\n",
    "        \n",
    "# unitary operator U_C with parameter gamma\n",
    "def U_C(circ: QuantumCircuit, param, h, jp): \n",
    "    for key in jp.keys():\n",
    "        q1 = key[0]\n",
    "        q2 = key[1]\n",
    "        circ.rzz(jp[key]*param, q1, q2)\n",
    "        \n",
    "    for qubit in range(circ.num_qubits):\n",
    "        circ.rz(h[qubit]*param, qubit)\n",
    "        \n",
    "def circuit(num_assets, params, n_layers, h, jp):\n",
    "    \n",
    "    circ = QuantumCircuit(num_assets, num_assets)\n",
    "    \n",
    "    # apply Hadamards to get the n qubit |+> state\n",
    "    for qubit in range(num_assets):\n",
    "        circ.h(qubit)\n",
    "        \n",
    "    # p instances of unitary operators\n",
    "    for i in range(n_layers):\n",
    "        init = i*2\n",
    "        U_C(circ, params[init], h, jp)\n",
    "        U_B(circ, params[init+1])\n",
    "        \n",
    "    circ.measure(range(num_assets), range(num_assets))\n",
    "    \n",
    "    return circ\n"
   ]
  },
  {
   "cell_type": "code",
   "execution_count": 78,
   "metadata": {},
   "outputs": [],
   "source": [
    "def compute_expectation(counts, h, jp, nshots):\n",
    "    \n",
    "    \"\"\"\n",
    "    Computes expectation value based on measurement results. It needs to be ajusted so that the distribution of \n",
    "    counts matches with the expected groud state or at least a narrow distribution against a minimal one.\n",
    "    \"\"\"   \n",
    "    def get_energy(solution):\n",
    "        # Ising problem\n",
    "        val = 0.0\n",
    "        for i in range(len(solution)):\n",
    "            val += -h[i]*solution[i]\n",
    "            \n",
    "        for key in jp.keys():\n",
    "                val += jp[key]*solution[key[0]]*solution[key[1]]\n",
    "        return val\n",
    "    \n",
    "    min_energy = 0.0\n",
    "    min_e_perc = 0.0\n",
    "    for key in counts: # Iterates for all counts obtained (2**n)\n",
    "        solution = [int(item)*2-1 for item in key]\n",
    "        output = get_energy(solution)\n",
    "            \n",
    "        if output < min_energy:\n",
    "            min_energy = output\n",
    "            min_e_perc = counts[key]/nshots\n",
    "    \n",
    "    # Return the value of the minimum energy found scaled to its probability\n",
    "    return min_energy*min_e_perc\n",
    "\n",
    "\n",
    "# Finally we write a function that executes the circuit on the chosen backend\n",
    "def get_expectation(n_layers, h, jp, backend, nshots=1024):\n",
    "    \n",
    "    \"\"\"\n",
    "    Runs parametrized circuit\n",
    "    \"\"\"\n",
    "    def execute_circ(params):\n",
    "        \n",
    "        qc = circuit(len(h), params, n_layers, h, jp)\n",
    "        counts = backend.run(qc, seed_simulator=10, nshots=nshots).result().get_counts()\n",
    "        \n",
    "        return compute_expectation(counts, h, jp, nshots)\n",
    "    \n",
    "    return execute_circ"
   ]
  },
  {
   "cell_type": "code",
   "execution_count": 79,
   "metadata": {},
   "outputs": [],
   "source": [
    "from qiskit import Aer\n",
    "\n",
    "backend = Aer.get_backend(\"qasm_simulator\")"
   ]
  },
  {
   "cell_type": "code",
   "execution_count": 89,
   "metadata": {},
   "outputs": [],
   "source": [
    "import numpy as np\n",
    "from scipy.optimize import basinhopping\n",
    "\n",
    "num_layers = 2\n",
    "num_params = 2\n",
    "minimizer_kwargs = {\"method\": \"COBYLA\"}\n",
    "\n",
    "params = np.random.rand(num_layers*num_params)\n",
    "expectation = get_expectation(num_layers, h, jp, backend)\n",
    "\n",
    "# Using global optimizer\n",
    "results = basinhopping(expectation, params, minimizer_kwargs=minimizer_kwargs, niter=200)"
   ]
  },
  {
   "cell_type": "code",
   "execution_count": 90,
   "metadata": {},
   "outputs": [
    {
     "data": {
      "text/plain": [
       "                        fun: -8.34814453125\n",
       " lowest_optimization_result:      fun: -8.34814453125\n",
       "   maxcv: 0.0\n",
       " message: 'Optimization terminated successfully.'\n",
       "    nfev: 46\n",
       "  status: 1\n",
       " success: True\n",
       "       x: array([7.5375709 , 5.33255744, 7.45268662, 2.069658  ])\n",
       "                    message: ['requested number of basinhopping iterations completed successfully']\n",
       "      minimization_failures: 0\n",
       "                       nfev: 9398\n",
       "                        nit: 200\n",
       "                    success: True\n",
       "                          x: array([7.5375709 , 5.33255744, 7.45268662, 2.069658  ])"
      ]
     },
     "execution_count": 90,
     "metadata": {},
     "output_type": "execute_result"
    }
   ],
   "source": [
    "results"
   ]
  },
  {
   "cell_type": "code",
   "execution_count": 91,
   "metadata": {},
   "outputs": [
    {
     "data": {
      "image/png": "[encoded data removed]",
      "text/plain": [
       "<Figure size 2434.4x385.28 with 1 Axes>"
      ]
     },
     "execution_count": 91,
     "metadata": {},
     "output_type": "execute_result"
    }
   ],
   "source": [
    "circ = circuit(len(h), results.x, num_layers, h, jp)\n",
    "circ.draw('mpl', fold=120)"
   ]
  },
  {
   "cell_type": "code",
   "execution_count": 92,
   "metadata": {},
   "outputs": [
    {
     "data": {
      "image/png": "[encoded data removed]",
      "text/plain": [
       "<Figure size 504x360 with 1 Axes>"
      ]
     },
     "execution_count": 92,
     "metadata": {},
     "output_type": "execute_result"
    }
   ],
   "source": [
    "from qiskit.visualization import plot_histogram\n",
    "\n",
    "nshots=500\n",
    "counts = backend.run(circ, seed_simulator=10, nshots=nshots).result().get_counts()\n",
    "plot_histogram(counts)"
   ]
  },
  {
   "cell_type": "code",
   "execution_count": 96,
   "metadata": {},
   "outputs": [
    {
     "name": "stdout",
     "output_type": "stream",
     "text": [
      "Found solution 00110 with success probability 0.834\n",
      "Selected edges:\n",
      "(2, 3)\n",
      "(2, 4)\n"
     ]
    }
   ],
   "source": [
    "max_c = \"\"\n",
    "perc = 0.0\n",
    "for c in counts:\n",
    "    if counts[c]/nshots > perc:\n",
    "        max_c = c[::-1]\n",
    "        perc = counts[c]/nshots\n",
    "print(f\"Found solution {max_c} with success probability {perc}\")\n",
    "print(f\"Selected edges:\")\n",
    "for i, val in enumerate(max_c):\n",
    "    if val == \"1\":\n",
    "        print(edges[i])\n"
   ]
  }
 ],
 "metadata": {
  "kernelspec": {
   "display_name": "Python 3.11.0b3 ('.venv': venv)",
   "language": "python",
   "name": "python3"
  },
  "language_info": {
   "codemirror_mode": {
    "name": "ipython",
    "version": 3
   },
   "file_extension": ".py",
   "mimetype": "text/x-python",
   "name": "python",
   "nbconvert_exporter": "python",
   "pygments_lexer": "ipython3",
   "version": "3.8.10"
  },
  "orig_nbformat": 4,
  "vscode": {
   "interpreter": {
    "hash": "54d8e6d6559f7770286fa97adac8153e82b00038c5de58db39573bc0d9fd86c5"
   }
  }
 },
 "nbformat": 4,
 "nbformat_minor": 2
}
